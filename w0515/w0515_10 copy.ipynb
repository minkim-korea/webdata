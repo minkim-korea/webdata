{
 "cells": [
  {
   "cell_type": "markdown",
   "id": "57c5876f",
   "metadata": {},
   "source": [
    "여기어때 오사카  924~927  검색   금액 220000원이하  평점 9.0 이상 평가수 5000명이상  "
   ]
  },
  {
   "cell_type": "code",
   "execution_count": 7,
   "id": "da630f5c",
   "metadata": {},
   "outputs": [],
   "source": [
    "import requests\n",
    "from bs4 import BeautifulSoup\n",
    "from selenium import webdriver\n",
    "from selenium.webdriver.common.keys import Keys\n",
    "from selenium.webdriver.common.by import By\n",
    "from selenium.webdriver.chrome.service import Service\n",
    "from selenium.webdriver.chrome.options import Options\n",
    "from datetime import datetime\n",
    "import csv\n",
    "import time\n",
    "import random\n",
    "# 크롬 옵션 설정 - 셀레니움 접근 제한 : 보안접근 해제\n",
    "options = Options()\n",
    "options.add_argument(\"--disable-blink-features=AutomationControlled\")  # 자동화 티 안 나게\n",
    "options.add_argument(\"start-maximized\")\n",
    "options.add_argument(\"user-agent=Mozilla/5.0 (Windows NT 10.0; Win64; x64) AppleWebKit/537.36 (KHTML, like Gecko) Chrome/123.0.0.0 Safari/537.36\")\n",
    "options.add_experimental_option(\"excludeSwitches\", [\"enable-automation\"])\n",
    "options.add_experimental_option('useAutomationExtension', False)\n"
   ]
  },
  {
   "cell_type": "code",
   "execution_count": 8,
   "id": "81143d7e",
   "metadata": {},
   "outputs": [],
   "source": [
    "# 브라우저 실행\n",
    "browser = webdriver.Chrome(options=options)\n",
    "browser.maximize_window() # 창 최대화 "
   ]
  },
  {
   "cell_type": "code",
   "execution_count": 9,
   "id": "b70b245a",
   "metadata": {},
   "outputs": [],
   "source": [
    "### 1. 네이버 항공권 접속\n",
    "url = \"https://www.yeogi.com/\"\n",
    "browser.get(url)"
   ]
  },
  {
   "cell_type": "code",
   "execution_count": 10,
   "id": "805356d1",
   "metadata": {},
   "outputs": [],
   "source": [
    "time.sleep(2)\n",
    "elem =browser.find_element(By.XPATH,'//*[@id=\"LARGE_TAB_OVERSEAS_ACCOMMODATION\"]').click()\n",
    "time.sleep(1)\n",
    "elem =browser.find_element(By.XPATH,'//*[@id=\"__next\"]/main/section[1]/div/div/div[2]/form/div[1]/div[1]/div/label/div/div[2]/input') \n",
    "elem.send_keys(\"오사카\")                 # 시가 총액 글자 입력 \n",
    "elem.send_keys(Keys.ENTER) \n",
    "elem =browser.find_element(By.XPATH,'//*[@id=\"__next\"]/main/section[1]/div/div/div[2]/form/div[1]/div[2]/ul/li[1]').click()\n",
    "time.sleep(2)\n",
    "#달 옮기기 \n",
    "elem = browser.find_element(By.XPATH,'//*[@id=\"__next\"]/main/section[1]/div/div/div[2]/form/div[2]/div[2]/div/div[1]/div[1]/button[2]').click()\n",
    "time.sleep(1)\n",
    "elem = browser.find_element(By.XPATH,'//*[@id=\"__next\"]/main/section[1]/div/div/div[2]/form/div[2]/div[2]/div/div[1]/div[1]/button[2]').click()\n",
    "time.sleep(1)\n",
    "elem = browser.find_element(By.XPATH,'//*[@id=\"__next\"]/main/section[1]/div/div/div[2]/form/div[2]/div[2]/div/div[1]/div[2]/div[2]/div/div/ul[2]/li[25]/button').click()\n",
    "time.sleep(1)\n",
    "elem = browser.find_element(By.XPATH,'//*[@id=\"__next\"]/main/section[1]/div/div/div[2]/form/div[2]/div[2]/div/div[1]/div[2]/div[2]/div/div/ul[2]/li[28]/button').click()\n",
    "time.sleep(1)\n",
    "elem = browser.find_element(By.XPATH,'//*[@id=\"__next\"]/main/section[1]/div/div/div[2]/form/div[4]/button').click()\n"
   ]
  },
  {
   "cell_type": "code",
   "execution_count": 11,
   "id": "6dd4f27e",
   "metadata": {},
   "outputs": [
    {
     "name": "stdout",
     "output_type": "stream",
     "text": [
      "스크롤 내리기 종료\n"
     ]
    }
   ],
   "source": [
    "prev_height = browser.execute_script(\"return document.body.scrollHeight\")\n",
    "# 반복 실행\n",
    "while True:\n",
    "    # 현재 브라우저에서 0에서 현재 높이까지 스크롤 내리기\n",
    "    # 자바스크립트 실행\n",
    "    browser.execute_script(\"window.scrollTo(0,document.body.scrollHeight)\")\n",
    "    time.sleep(2)\n",
    "    # 변동된 현재 문서 높이을 가져오기\n",
    "    curr_height = browser.execute_script(\"return document.body.scrollHeight\")\n",
    "    # 스크롤 높이가 변동이 없을시\n",
    "    if curr_height == prev_height: break \n",
    "    prev_height = curr_height # 현재 높이를 다시 입력해서 스크롤 내리기 재실행\n",
    "\n",
    "print(\"스크롤 내리기 종료\")"
   ]
  },
  {
   "cell_type": "code",
   "execution_count": 12,
   "id": "d4a051e3",
   "metadata": {},
   "outputs": [
    {
     "name": "stdout",
     "output_type": "stream",
     "text": [
      "호텔명  호텔 그레이서리 오사카 난바\n",
      "평점  8.7\n",
      "평가수: 7,078\n",
      "가격: 203,724\n",
      "호텔명  하튼 호텔 신사이바시 나가호리도리\n",
      "평점  8.9\n",
      "평가수: 12,367\n",
      "가격: 132,679\n",
      "호텔명  호텔 오리엔탈 익스프레스 오사카 신사이바시\n",
      "평점  8.9\n",
      "평가수: 5,536\n",
      "가격: 187,312\n",
      "호텔명  그리드스 프리미엄 호텔 오사카 남바\n",
      "평점  8.8\n",
      "평가수: 7,197\n",
      "가격: 161,946\n",
      "호텔명  베셀 인 신사이바시\n",
      "평점  8.9\n",
      "평가수: 6,031\n",
      "가격: 165,849\n",
      "호텔명  퀸테사 호텔 오사카 신사이바시 코믹 & 북스\n",
      "평점  8.4\n",
      "평가수: 7,220\n",
      "가격: 166,825\n"
     ]
    }
   ],
   "source": [
    "soup = BeautifulSoup(browser.page_source,\"lxml\")\n",
    "data = soup.find(\"div\",{\"class\":\"css-1poun1e\"})\n",
    "hotel_list = data.find_all(\"div\",{\"class\":\"css-gvoll6\"})\n",
    "for hotel in hotel_list:\n",
    "    # 가격\n",
    "    hPrice = hotel.find(\"span\",{\"class\":\"css-5r5920\"}).get_text().strip().replace(\",\",\"\")\n",
    "    hPrice = int(hPrice)\n",
    "    # 평점\n",
    "    hStar = hotel.find(\"span\",{\"class\":\"css-9ml4lz\"}).get_text().strip()\n",
    "    hStar = float(hStar)\n",
    "    # 평가수\n",
    "    hRating = hotel.find(\"span\",{\"class\":\"css-oj6onp\"}).get_text().strip().replace(\",\",\"\")[:-4]\n",
    "    hRating = int(hRating)\n",
    "    if hPrice >= 220000 or hStar <= 8.0 or hRating <= 5000: continue\n",
    "    # 호텔명\n",
    "    hName = hotel.find(\"h3\",{\"class\":\"gc-thumbnail-type-seller-card-title css-1gxx2ac\"}).get_text().strip()\n",
    "    print(\"호텔명 \",hName)\n",
    "    # 평점\n",
    "    print(\"평점 \",hStar)\n",
    "    # 평가수\n",
    "    print(f\"평가수: {hRating:,}\")\n",
    "    # 가격\n",
    "    print(f\"가격: {hPrice:,}\")\n",
    "\n",
    "    "
   ]
  }
 ],
 "metadata": {
  "kernelspec": {
   "display_name": "Python 3",
   "language": "python",
   "name": "python3"
  },
  "language_info": {
   "codemirror_mode": {
    "name": "ipython",
    "version": 3
   },
   "file_extension": ".py",
   "mimetype": "text/x-python",
   "name": "python",
   "nbconvert_exporter": "python",
   "pygments_lexer": "ipython3",
   "version": "3.13.2"
  }
 },
 "nbformat": 4,
 "nbformat_minor": 5
}
