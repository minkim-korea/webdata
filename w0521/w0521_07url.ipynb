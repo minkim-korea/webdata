{
 "cells": [
  {
   "cell_type": "code",
   "execution_count": 1,
   "id": "3584311b",
   "metadata": {},
   "outputs": [],
   "source": [
    "import pandas as pd \n",
    "import numpy as np"
   ]
  },
  {
   "cell_type": "code",
   "execution_count": 4,
   "id": "42120a66",
   "metadata": {},
   "outputs": [],
   "source": [
    "### 2개 DataFrame 합치기 , concat \n",
    "df1 = pd.read_csv(\"data/2014년졸음운전교통사고.csv\",encoding='euc-kr')\n",
    "df2 = pd.read_csv(\"data/2015년졸음운전교통사고.csv\",encoding='euc-kr')\n",
    "df3 = pd.read_csv(\"data/2016년졸음운전교통사고.csv\",encoding='euc-kr')\n",
    "df = pd.concat([df1,df2,df3])\n"
   ]
  },
  {
   "cell_type": "code",
   "execution_count": null,
   "id": "30ef5701",
   "metadata": {},
   "outputs": [
    {
     "data": {
      "text/plain": [
       "Index(['-------------------------------------------------------------------------------------------------------------------------------------------------------------------------------------------------------------'], dtype='object')"
      ]
     },
     "execution_count": 12,
     "metadata": {},
     "output_type": "execute_result"
    }
   ],
   "source": [
    "url ='https://race.kra.co.kr/dbdata/fileDownLoad.do?fn=internet/seoul/horse/20220501sdb1.txt&meet=1'\n",
    "df = pd.read_csv(url,encoding='euc-kr',nrows=3,sep=\"\\t\")\n",
    "df.columns"
   ]
  }
 ],
 "metadata": {
  "kernelspec": {
   "display_name": "Python 3",
   "language": "python",
   "name": "python3"
  },
  "language_info": {
   "codemirror_mode": {
    "name": "ipython",
    "version": 3
   },
   "file_extension": ".py",
   "mimetype": "text/x-python",
   "name": "python",
   "nbconvert_exporter": "python",
   "pygments_lexer": "ipython3",
   "version": "3.13.2"
  }
 },
 "nbformat": 4,
 "nbformat_minor": 5
}
