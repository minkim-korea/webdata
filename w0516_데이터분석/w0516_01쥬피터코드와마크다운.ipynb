{
 "cells": [
  {
   "cell_type": "markdown",
   "id": "7911bd16",
   "metadata": {},
   "source": [
    "# 설명문 "
   ]
  },
  {
   "cell_type": "markdown",
   "id": "84d7172f",
   "metadata": {},
   "source": [
    "## 설명문 "
   ]
  },
  {
   "cell_type": "markdown",
   "id": "10884995",
   "metadata": {},
   "source": [
    "### 설명문 "
   ]
  },
  {
   "cell_type": "code",
   "execution_count": 5,
   "id": "dc57cd74",
   "metadata": {},
   "outputs": [
    {
     "data": {
      "text/plain": [
       "45"
      ]
     },
     "execution_count": 5,
     "metadata": {},
     "output_type": "execute_result"
    }
   ],
   "source": [
    "sum = 0\n",
    "for i in range(10):\n",
    "    sum+=i\n",
    "sum"
   ]
  }
 ],
 "metadata": {
  "kernelspec": {
   "display_name": "Python 3",
   "language": "python",
   "name": "python3"
  },
  "language_info": {
   "codemirror_mode": {
    "name": "ipython",
    "version": 3
   },
   "file_extension": ".py",
   "mimetype": "text/x-python",
   "name": "python",
   "nbconvert_exporter": "python",
   "pygments_lexer": "ipython3",
   "version": "3.13.2"
  }
 },
 "nbformat": 4,
 "nbformat_minor": 5
}
