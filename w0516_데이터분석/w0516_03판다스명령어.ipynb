{
 "cells": [
  {
   "cell_type": "markdown",
   "id": "9972775a",
   "metadata": {},
   "source": [
    "pandas 명령어 \n"
   ]
  },
  {
   "cell_type": "markdown",
   "id": "77d28cca",
   "metadata": {},
   "source": [
    "## Series :1차원 데이터를 말한다 (- * 넣으면 )\n",
    "- 리스트 형태인데 , 데이터 처리를 쉽게 할수 있도록 하는 라이브러리 "
   ]
  },
  {
   "cell_type": "code",
   "execution_count": null,
   "id": "63647719",
   "metadata": {},
   "outputs": [
    {
     "name": "stdout",
     "output_type": "stream",
     "text": [
      "10\n"
     ]
    },
    {
     "data": {
      "text/plain": [
       "0   -20\n",
       "1   -10\n",
       "2    10\n",
       "3    20\n",
       "dtype: int64"
      ]
     },
     "execution_count": 6,
     "metadata": {},
     "output_type": "execute_result"
    }
   ],
   "source": [
    "import pandas as pd \n",
    "\n",
    "# 1차원 데이터 \n",
    "a_list= [-20,-10,10,20]\n",
    "temp = pd.Series(a_list) # 리스트 타입 - > 1차원 Series타입 변환 \n",
    "temp[0]\n",
    "print(temp[2])\n",
    "temp # index, column\n",
    " "
   ]
  },
  {
   "cell_type": "code",
   "execution_count": 3,
   "id": "884ebe71",
   "metadata": {},
   "outputs": [
    {
     "name": "stdout",
     "output_type": "stream",
     "text": [
      "-20\n"
     ]
    }
   ],
   "source": [
    "# a_list[0]\n",
    "print(temp[0])"
   ]
  },
  {
   "cell_type": "code",
   "execution_count": 9,
   "id": "760d68a6",
   "metadata": {},
   "outputs": [
    {
     "name": "stdout",
     "output_type": "stream",
     "text": [
      "-20\n",
      "20\n"
     ]
    }
   ],
   "source": [
    "### Series  index 지정하는 방법 \n",
    "temp = pd.Series(a_list,index=['1월','2월','3월','4월'])\n",
    "temp\n",
    "print(temp['1월'])\n",
    "print(temp['4월'])"
   ]
  },
  {
   "cell_type": "code",
   "execution_count": 10,
   "id": "3353d38a",
   "metadata": {},
   "outputs": [
    {
     "data": {
      "text/plain": [
       "1월   -20\n",
       "2월   -10\n",
       "3월    10\n",
       "4월    20\n",
       "dtype: int64"
      ]
     },
     "execution_count": 10,
     "metadata": {},
     "output_type": "execute_result"
    }
   ],
   "source": [
    "# index 개수가 틀리면 에러 \n",
    "# temp = pd.Series(a_list,index=['1월','2월','3월','4월','5월'])\n",
    "temp = pd.Series(a_list,index=['1월','2월','3월','4월'])\n",
    "temp"
   ]
  },
  {
   "cell_type": "markdown",
   "id": "97894a64",
   "metadata": {},
   "source": [
    "### DataFrame : 2차원 데이터 "
   ]
  },
  {
   "cell_type": "code",
   "execution_count": null,
   "id": "1e7f52c7",
   "metadata": {},
   "outputs": [
    {
     "data": {
      "text/plain": [
       "{'번호': ['1번', '2번', '3번', '4번', '5번'],\n",
       " '이름': ['홍길동', '유관순', '이순신', '강감찬', '김구'],\n",
       " '합계': [300, 299, 250, 270, 297]}"
      ]
     },
     "execution_count": 12,
     "metadata": {},
     "output_type": "execute_result"
    }
   ],
   "source": [
    "#dic타입 구현 \n",
    "data = {\n",
    "'번호':['1번','2번','3번', '4번','5번'],\n",
    "'이름':['홍길동','유관순','이순신','강감찬','김구'],\n",
    "'합계':[300,299,250,270,297]\n",
    "}\n",
    "data"
   ]
  },
  {
   "cell_type": "code",
   "execution_count": 15,
   "id": "516aebae",
   "metadata": {},
   "outputs": [
    {
     "data": {
      "text/plain": [
       "[300, 299, 250, 270, 297]"
      ]
     },
     "execution_count": 15,
     "metadata": {},
     "output_type": "execute_result"
    }
   ],
   "source": [
    "## 딕셔너리 타입 구현 \n",
    "data['이름']\n",
    "data['합계']"
   ]
  },
  {
   "cell_type": "code",
   "execution_count": 17,
   "id": "0a9476ab",
   "metadata": {},
   "outputs": [
    {
     "data": {
      "text/html": [
       "<div>\n",
       "<style scoped>\n",
       "    .dataframe tbody tr th:only-of-type {\n",
       "        vertical-align: middle;\n",
       "    }\n",
       "\n",
       "    .dataframe tbody tr th {\n",
       "        vertical-align: top;\n",
       "    }\n",
       "\n",
       "    .dataframe thead th {\n",
       "        text-align: right;\n",
       "    }\n",
       "</style>\n",
       "<table border=\"1\" class=\"dataframe\">\n",
       "  <thead>\n",
       "    <tr style=\"text-align: right;\">\n",
       "      <th></th>\n",
       "      <th>번호</th>\n",
       "      <th>이름</th>\n",
       "      <th>합계</th>\n",
       "    </tr>\n",
       "  </thead>\n",
       "  <tbody>\n",
       "    <tr>\n",
       "      <th>0</th>\n",
       "      <td>1번</td>\n",
       "      <td>홍길동</td>\n",
       "      <td>300</td>\n",
       "    </tr>\n",
       "    <tr>\n",
       "      <th>1</th>\n",
       "      <td>2번</td>\n",
       "      <td>유관순</td>\n",
       "      <td>299</td>\n",
       "    </tr>\n",
       "    <tr>\n",
       "      <th>2</th>\n",
       "      <td>3번</td>\n",
       "      <td>이순신</td>\n",
       "      <td>250</td>\n",
       "    </tr>\n",
       "    <tr>\n",
       "      <th>3</th>\n",
       "      <td>4번</td>\n",
       "      <td>강감찬</td>\n",
       "      <td>270</td>\n",
       "    </tr>\n",
       "    <tr>\n",
       "      <th>4</th>\n",
       "      <td>5번</td>\n",
       "      <td>김구</td>\n",
       "      <td>297</td>\n",
       "    </tr>\n",
       "  </tbody>\n",
       "</table>\n",
       "</div>"
      ],
      "text/plain": [
       "   번호   이름   합계\n",
       "0  1번  홍길동  300\n",
       "1  2번  유관순  299\n",
       "2  3번  이순신  250\n",
       "3  4번  강감찬  270\n",
       "4  5번   김구  297"
      ]
     },
     "execution_count": 17,
     "metadata": {},
     "output_type": "execute_result"
    }
   ],
   "source": [
    "## pandas DataFrame 형태로 변경 \n",
    "df = pd.DataFrame(data)\n",
    "df"
   ]
  },
  {
   "cell_type": "code",
   "execution_count": 19,
   "id": "9bc445ee",
   "metadata": {},
   "outputs": [
    {
     "data": {
      "text/plain": [
       "0    300\n",
       "1    299\n",
       "2    250\n",
       "3    270\n",
       "4    297\n",
       "Name: 합계, dtype: int64"
      ]
     },
     "execution_count": 19,
     "metadata": {},
     "output_type": "execute_result"
    }
   ],
   "source": [
    "df['이름']\n",
    "df['합계']"
   ]
  },
  {
   "cell_type": "code",
   "execution_count": 20,
   "id": "5fc06e4f",
   "metadata": {},
   "outputs": [
    {
     "data": {
      "text/plain": [
       "0    1번\n",
       "1    2번\n",
       "2    3번\n",
       "3    4번\n",
       "4    5번\n",
       "Name: 번호, dtype: object"
      ]
     },
     "execution_count": 20,
     "metadata": {},
     "output_type": "execute_result"
    }
   ],
   "source": [
    "df['번호']"
   ]
  },
  {
   "cell_type": "code",
   "execution_count": null,
   "id": "cf4fa9ca",
   "metadata": {},
   "outputs": [
    {
     "data": {
      "text/html": [
       "<div>\n",
       "<style scoped>\n",
       "    .dataframe tbody tr th:only-of-type {\n",
       "        vertical-align: middle;\n",
       "    }\n",
       "\n",
       "    .dataframe tbody tr th {\n",
       "        vertical-align: top;\n",
       "    }\n",
       "\n",
       "    .dataframe thead th {\n",
       "        text-align: right;\n",
       "    }\n",
       "</style>\n",
       "<table border=\"1\" class=\"dataframe\">\n",
       "  <thead>\n",
       "    <tr style=\"text-align: right;\">\n",
       "      <th></th>\n",
       "      <th>번호</th>\n",
       "      <th>이름</th>\n",
       "    </tr>\n",
       "  </thead>\n",
       "  <tbody>\n",
       "    <tr>\n",
       "      <th>0</th>\n",
       "      <td>1번</td>\n",
       "      <td>홍길동</td>\n",
       "    </tr>\n",
       "    <tr>\n",
       "      <th>1</th>\n",
       "      <td>2번</td>\n",
       "      <td>유관순</td>\n",
       "    </tr>\n",
       "    <tr>\n",
       "      <th>2</th>\n",
       "      <td>3번</td>\n",
       "      <td>이순신</td>\n",
       "    </tr>\n",
       "    <tr>\n",
       "      <th>3</th>\n",
       "      <td>4번</td>\n",
       "      <td>강감찬</td>\n",
       "    </tr>\n",
       "    <tr>\n",
       "      <th>4</th>\n",
       "      <td>5번</td>\n",
       "      <td>김구</td>\n",
       "    </tr>\n",
       "  </tbody>\n",
       "</table>\n",
       "</div>"
      ],
      "text/plain": [
       "   번호   이름\n",
       "0  1번  홍길동\n",
       "1  2번  유관순\n",
       "2  3번  이순신\n",
       "3  4번  강감찬\n",
       "4  5번   김구"
      ]
     },
     "execution_count": 21,
     "metadata": {},
     "output_type": "execute_result"
    }
   ],
   "source": [
    "# 2가지이상 출력하고싶을땐 [[ ]] 2번사용해서 출력하면 됩니다.  \n",
    "df[['번호','합계']]"
   ]
  }
 ],
 "metadata": {
  "kernelspec": {
   "display_name": "Python 3",
   "language": "python",
   "name": "python3"
  },
  "language_info": {
   "codemirror_mode": {
    "name": "ipython",
    "version": 3
   },
   "file_extension": ".py",
   "mimetype": "text/x-python",
   "name": "python",
   "nbconvert_exporter": "python",
   "pygments_lexer": "ipython3",
   "version": "3.13.2"
  }
 },
 "nbformat": 4,
 "nbformat_minor": 5
}
