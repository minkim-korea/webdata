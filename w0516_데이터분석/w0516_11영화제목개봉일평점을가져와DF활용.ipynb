{
 "cells": [
  {
   "cell_type": "markdown",
   "id": "bd10f4b5",
   "metadata": {},
   "source": [
    "제목 개봉일 평점 평점에대한 평균과 합계 최대값 최소값을 출력하시오 dataframe사용해서 적용 "
   ]
  },
  {
   "cell_type": "code",
   "execution_count": 4,
   "id": "be250405",
   "metadata": {},
   "outputs": [],
   "source": [
    "import requests\n",
    "from bs4 import BeautifulSoup\n",
    "from selenium import webdriver\n",
    "from selenium.webdriver.common.keys import Keys\n",
    "from selenium.webdriver.common.by import By\n",
    "from selenium.webdriver.chrome.service import Service\n",
    "from selenium.webdriver.chrome.options import Options\n",
    "from selenium.webdriver.support.ui import WebDriverWait\n",
    "from selenium.webdriver.support import expected_conditions as EC\n",
    "import pandas as pd\n",
    "import csv\n",
    "import time\n",
    "import random\n",
    "# 크롬 옵션 설정 - 셀레니움 접근 제한 : 보안접근 해제\n",
    "options = Options()\n",
    "options.add_argument(\"--disable-blink-features=AutomationControlled\")  # 자동화 티 안 나게\n",
    "options.add_argument(\"start-maximized\")\n",
    "options.add_argument(\"user-agent=Mozilla/5.0 (Windows NT 10.0; Win64; x64) AppleWebKit/537.36 (KHTML, like Gecko) Chrome/123.0.0.0 Safari/537.36\")\n",
    "options.add_experimental_option(\"excludeSwitches\", [\"enable-automation\"])\n",
    "options.add_experimental_option('useAutomationExtension', False)"
   ]
  },
  {
   "cell_type": "code",
   "execution_count": 5,
   "id": "396797d1",
   "metadata": {},
   "outputs": [],
   "source": [
    "# #1.csv 파일생성 (import csv 있는지확인)  \n",
    "# f = open(\"w0516_데이터분석/moive.csv\",\"w\",encoding=\"utf-8-sig\",newline='') # newline 엔터키 안쳐지게하는거 \n",
    "# writer =csv.writer(f)\n",
    "# title = ['제목','개봉일','평점']\n",
    "# writer.writerow(title) # csv 리스트 저장 "
   ]
  },
  {
   "cell_type": "code",
   "execution_count": 6,
   "id": "4fa151e9",
   "metadata": {},
   "outputs": [],
   "source": [
    "# 브라우저 실행\n",
    "browser = webdriver.Chrome(options=options)\n",
    "browser.maximize_window() # 창 최대화 "
   ]
  },
  {
   "cell_type": "code",
   "execution_count": 7,
   "id": "2370b46a",
   "metadata": {},
   "outputs": [],
   "source": [
    "\n",
    "### 1. 네이버 영화 \n",
    "url = \"https://search.naver.com/search.naver?where=nexearch&sm=tab_etc&qvt=0&query=%EC%9B%94%EB%B3%84%EA%B0%9C%EB%B4%89%EC%98%81%ED%99%94\"\n",
    "browser.get(url)"
   ]
  },
  {
   "cell_type": "code",
   "execution_count": 8,
   "id": "39a1e9f7",
   "metadata": {},
   "outputs": [],
   "source": [
    "#1월클릭 \n",
    "time.sleep(2)\n",
    "elem =browser.find_element(By.XPATH,'//*[@id=\"main_pack\"]/div[3]/div[2]/div/div/div/div[1]/div[3]/div/div/ul[2]/li[1]/a').click()\n",
    "time.sleep(1)\n",
    "\n"
   ]
  },
  {
   "cell_type": "code",
   "execution_count": null,
   "id": "2defbd30",
   "metadata": {},
   "outputs": [
    {
     "name": "stdout",
     "output_type": "stream",
     "text": [
      "더 퍼스트 슬램덩크\n",
      "2025.01.04.\n",
      "9.25\n",
      "해리 포터와 죽음의 성물 2\n",
      "2025.01.15.\n",
      "9.17\n",
      "검은 수녀들\n",
      "2025.01.24.\n",
      "6.44\n",
      "히트맨2\n",
      "2025.01.22.\n",
      "7.44\n",
      "러브레터\n",
      "2025.01.01.\n",
      "9.32\n",
      "마당을 나온 암탉\n",
      "2025.01.22.\n",
      "8.67\n",
      "색, 계\n",
      "2025.01.01.\n",
      "8.98\n",
      "말할 수 없는 비밀\n",
      "2025.01.27.\n",
      "8.62\n"
     ]
    }
   ],
   "source": [
    "#1.csv 파일생성 (import csv 있는지확인)  \n",
    "f = open(\"file/movie.csv\",\"w\",encoding=\"utf-8-sig\",newline='') # newline 엔터키 안쳐지게하는거 \n",
    "writer =csv.writer(f)\n",
    "title = ['제목','개봉일','평점']\n",
    "writer.writerow(title) # csv 리스트 저장 \n",
    "soup = BeautifulSoup(browser.page_source,\"lxml\")\n",
    "data = soup.find(\"div\",{\"class\":\"card_area _panel\"})\n",
    "movie_list = data.find_all(\"div\",{\"class\":\"card_item\"})\n",
    "for movie in movie_list :\n",
    "    #제목 \n",
    "    title = movie.find(\"a\",{\"class\":\"this_text _text\"}).get_text().strip()\n",
    "    print(title)\n",
    "    #개봉일\n",
    "    start = movie.find(\"dl\",{\"class\":\"info_group type_visible\"}).find(\"dd\").get_text().strip()\n",
    "    print(start)\n",
    "    #평점\n",
    "    star = movie.find(\"span\",{\"class\":\"num\"}).get_text().strip()\n",
    "    print(star)\n",
    "    print(\"-\"*30)\n",
    "    writer.writerow([title,start,star])\n",
    "\n",
    "f.close()\n"
   ]
  },
  {
   "cell_type": "code",
   "execution_count": 10,
   "id": "f19efa07",
   "metadata": {},
   "outputs": [
    {
     "data": {
      "text/html": [
       "<div>\n",
       "<style scoped>\n",
       "    .dataframe tbody tr th:only-of-type {\n",
       "        vertical-align: middle;\n",
       "    }\n",
       "\n",
       "    .dataframe tbody tr th {\n",
       "        vertical-align: top;\n",
       "    }\n",
       "\n",
       "    .dataframe thead th {\n",
       "        text-align: right;\n",
       "    }\n",
       "</style>\n",
       "<table border=\"1\" class=\"dataframe\">\n",
       "  <thead>\n",
       "    <tr style=\"text-align: right;\">\n",
       "      <th></th>\n",
       "      <th>제목</th>\n",
       "      <th>개봉일</th>\n",
       "      <th>평점</th>\n",
       "    </tr>\n",
       "  </thead>\n",
       "  <tbody>\n",
       "    <tr>\n",
       "      <th>0</th>\n",
       "      <td>더 퍼스트 슬램덩크</td>\n",
       "      <td>2025.01.04.</td>\n",
       "      <td>9.25</td>\n",
       "    </tr>\n",
       "    <tr>\n",
       "      <th>1</th>\n",
       "      <td>해리 포터와 죽음의 성물 2</td>\n",
       "      <td>2025.01.15.</td>\n",
       "      <td>9.17</td>\n",
       "    </tr>\n",
       "    <tr>\n",
       "      <th>2</th>\n",
       "      <td>검은 수녀들</td>\n",
       "      <td>2025.01.24.</td>\n",
       "      <td>6.44</td>\n",
       "    </tr>\n",
       "    <tr>\n",
       "      <th>3</th>\n",
       "      <td>히트맨2</td>\n",
       "      <td>2025.01.22.</td>\n",
       "      <td>7.44</td>\n",
       "    </tr>\n",
       "    <tr>\n",
       "      <th>4</th>\n",
       "      <td>러브레터</td>\n",
       "      <td>2025.01.01.</td>\n",
       "      <td>9.32</td>\n",
       "    </tr>\n",
       "    <tr>\n",
       "      <th>5</th>\n",
       "      <td>마당을 나온 암탉</td>\n",
       "      <td>2025.01.22.</td>\n",
       "      <td>8.67</td>\n",
       "    </tr>\n",
       "    <tr>\n",
       "      <th>6</th>\n",
       "      <td>색, 계</td>\n",
       "      <td>2025.01.01.</td>\n",
       "      <td>8.98</td>\n",
       "    </tr>\n",
       "    <tr>\n",
       "      <th>7</th>\n",
       "      <td>말할 수 없는 비밀</td>\n",
       "      <td>2025.01.27.</td>\n",
       "      <td>8.62</td>\n",
       "    </tr>\n",
       "  </tbody>\n",
       "</table>\n",
       "</div>"
      ],
      "text/plain": [
       "                제목          개봉일    평점\n",
       "0       더 퍼스트 슬램덩크  2025.01.04.  9.25\n",
       "1  해리 포터와 죽음의 성물 2  2025.01.15.  9.17\n",
       "2           검은 수녀들  2025.01.24.  6.44\n",
       "3             히트맨2  2025.01.22.  7.44\n",
       "4             러브레터  2025.01.01.  9.32\n",
       "5        마당을 나온 암탉  2025.01.22.  8.67\n",
       "6             색, 계  2025.01.01.  8.98\n",
       "7       말할 수 없는 비밀  2025.01.27.  8.62"
      ]
     },
     "execution_count": 10,
     "metadata": {},
     "output_type": "execute_result"
    }
   ],
   "source": [
    "df =pd.read_csv('file/movie.csv')\n",
    "df"
   ]
  },
  {
   "cell_type": "code",
   "execution_count": 11,
   "id": "dc024ca6",
   "metadata": {},
   "outputs": [
    {
     "data": {
      "text/html": [
       "<div>\n",
       "<style scoped>\n",
       "    .dataframe tbody tr th:only-of-type {\n",
       "        vertical-align: middle;\n",
       "    }\n",
       "\n",
       "    .dataframe tbody tr th {\n",
       "        vertical-align: top;\n",
       "    }\n",
       "\n",
       "    .dataframe thead th {\n",
       "        text-align: right;\n",
       "    }\n",
       "</style>\n",
       "<table border=\"1\" class=\"dataframe\">\n",
       "  <thead>\n",
       "    <tr style=\"text-align: right;\">\n",
       "      <th></th>\n",
       "      <th>평점</th>\n",
       "    </tr>\n",
       "  </thead>\n",
       "  <tbody>\n",
       "    <tr>\n",
       "      <th>count</th>\n",
       "      <td>8.000000</td>\n",
       "    </tr>\n",
       "    <tr>\n",
       "      <th>mean</th>\n",
       "      <td>8.486250</td>\n",
       "    </tr>\n",
       "    <tr>\n",
       "      <th>std</th>\n",
       "      <td>1.022824</td>\n",
       "    </tr>\n",
       "    <tr>\n",
       "      <th>min</th>\n",
       "      <td>6.440000</td>\n",
       "    </tr>\n",
       "    <tr>\n",
       "      <th>25%</th>\n",
       "      <td>8.325000</td>\n",
       "    </tr>\n",
       "    <tr>\n",
       "      <th>50%</th>\n",
       "      <td>8.825000</td>\n",
       "    </tr>\n",
       "    <tr>\n",
       "      <th>75%</th>\n",
       "      <td>9.190000</td>\n",
       "    </tr>\n",
       "    <tr>\n",
       "      <th>max</th>\n",
       "      <td>9.320000</td>\n",
       "    </tr>\n",
       "  </tbody>\n",
       "</table>\n",
       "</div>"
      ],
      "text/plain": [
       "             평점\n",
       "count  8.000000\n",
       "mean   8.486250\n",
       "std    1.022824\n",
       "min    6.440000\n",
       "25%    8.325000\n",
       "50%    8.825000\n",
       "75%    9.190000\n",
       "max    9.320000"
      ]
     },
     "execution_count": 11,
     "metadata": {},
     "output_type": "execute_result"
    }
   ],
   "source": [
    "df.describe()\n",
    "\n"
   ]
  },
  {
   "cell_type": "code",
   "execution_count": null,
   "id": "73d87f2e",
   "metadata": {},
   "outputs": [
    {
     "data": {
      "text/plain": [
       "np.float64(67.89000000000001)"
      ]
     },
     "execution_count": 19,
     "metadata": {},
     "output_type": "execute_result"
    }
   ],
   "source": [
    "df['평점'].sum() # 합 \n",
    "\n"
   ]
  },
  {
   "cell_type": "code",
   "execution_count": null,
   "id": "4f53d894",
   "metadata": {},
   "outputs": [
    {
     "data": {
      "text/plain": [
       "np.float64(8.486250000000002)"
      ]
     },
     "execution_count": 13,
     "metadata": {},
     "output_type": "execute_result"
    }
   ],
   "source": [
    "df['평점'].mean()   #평균 "
   ]
  },
  {
   "cell_type": "code",
   "execution_count": null,
   "id": "9b304985",
   "metadata": {},
   "outputs": [
    {
     "data": {
      "text/plain": [
       "np.float64(6.44)"
      ]
     },
     "execution_count": 14,
     "metadata": {},
     "output_type": "execute_result"
    }
   ],
   "source": [
    "df['평점'].min()  #최소 "
   ]
  },
  {
   "cell_type": "code",
   "execution_count": null,
   "id": "6072087d",
   "metadata": {},
   "outputs": [
    {
     "data": {
      "text/plain": [
       "np.float64(9.32)"
      ]
     },
     "execution_count": 15,
     "metadata": {},
     "output_type": "execute_result"
    }
   ],
   "source": [
    "df['평점'].max() #최대 "
   ]
  },
  {
   "cell_type": "code",
   "execution_count": null,
   "id": "8b8210d5",
   "metadata": {},
   "outputs": [
    {
     "data": {
      "text/plain": [
       "4    9.32\n",
       "Name: 평점, dtype: float64"
      ]
     },
     "execution_count": 16,
     "metadata": {},
     "output_type": "execute_result"
    }
   ],
   "source": [
    "df['평점'].nlargest(1) # 제일큰거 "
   ]
  },
  {
   "cell_type": "code",
   "execution_count": null,
   "id": "263a1f33",
   "metadata": {},
   "outputs": [
    {
     "data": {
      "text/plain": [
       "2    6.44\n",
       "Name: 평점, dtype: float64"
      ]
     },
     "execution_count": 17,
     "metadata": {},
     "output_type": "execute_result"
    }
   ],
   "source": [
    "df['평점'].nsmallest(1) #제일작은거 "
   ]
  }
 ],
 "metadata": {
  "kernelspec": {
   "display_name": "Python 3",
   "language": "python",
   "name": "python3"
  },
  "language_info": {
   "codemirror_mode": {
    "name": "ipython",
    "version": 3
   },
   "file_extension": ".py",
   "mimetype": "text/x-python",
   "name": "python",
   "nbconvert_exporter": "python",
   "pygments_lexer": "ipython3",
   "version": "3.13.2"
  }
 },
 "nbformat": 4,
 "nbformat_minor": 5
}
