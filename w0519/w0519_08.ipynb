{
 "cells": [
  {
   "cell_type": "code",
   "execution_count": 7,
   "id": "f0e78073",
   "metadata": {},
   "outputs": [
    {
     "name": "stderr",
     "output_type": "stream",
     "text": [
      "c:\\python3\\Lib\\site-packages\\openpyxl\\styles\\stylesheet.py:237: UserWarning: Workbook contains no default style, apply openpyxl's default\n",
      "  warn(\"Workbook contains no default style, apply openpyxl's default\")\n",
      "c:\\python3\\Lib\\site-packages\\openpyxl\\styles\\stylesheet.py:237: UserWarning: Workbook contains no default style, apply openpyxl's default\n",
      "  warn(\"Workbook contains no default style, apply openpyxl's default\")\n",
      "c:\\python3\\Lib\\site-packages\\openpyxl\\styles\\stylesheet.py:237: UserWarning: Workbook contains no default style, apply openpyxl's default\n",
      "  warn(\"Workbook contains no default style, apply openpyxl's default\")\n"
     ]
    },
    {
     "data": {
      "text/html": [
       "<div>\n",
       "<style scoped>\n",
       "    .dataframe tbody tr th:only-of-type {\n",
       "        vertical-align: middle;\n",
       "    }\n",
       "\n",
       "    .dataframe tbody tr th {\n",
       "        vertical-align: top;\n",
       "    }\n",
       "\n",
       "    .dataframe thead th {\n",
       "        text-align: right;\n",
       "    }\n",
       "</style>\n",
       "<table border=\"1\" class=\"dataframe\">\n",
       "  <thead>\n",
       "    <tr style=\"text-align: right;\">\n",
       "      <th></th>\n",
       "      <th>0~9세.2</th>\n",
       "      <th>10~19세.2</th>\n",
       "      <th>20~29세.2</th>\n",
       "      <th>30~39세.2</th>\n",
       "      <th>40~49세.2</th>\n",
       "      <th>50~59세.2</th>\n",
       "      <th>60~69세.2</th>\n",
       "      <th>70~79세.2</th>\n",
       "      <th>80~89세.2</th>\n",
       "      <th>90~99세.2</th>\n",
       "      <th>100세 이상.2</th>\n",
       "    </tr>\n",
       "    <tr>\n",
       "      <th>행정기관</th>\n",
       "      <th></th>\n",
       "      <th></th>\n",
       "      <th></th>\n",
       "      <th></th>\n",
       "      <th></th>\n",
       "      <th></th>\n",
       "      <th></th>\n",
       "      <th></th>\n",
       "      <th></th>\n",
       "      <th></th>\n",
       "      <th></th>\n",
       "    </tr>\n",
       "  </thead>\n",
       "  <tbody>\n",
       "    <tr>\n",
       "      <th>전국</th>\n",
       "      <td>1,531,058</td>\n",
       "      <td>2,245,507</td>\n",
       "      <td>2,855,132</td>\n",
       "      <td>3,166,585</td>\n",
       "      <td>3,796,703</td>\n",
       "      <td>4,315,099</td>\n",
       "      <td>3,968,224</td>\n",
       "      <td>2,254,795</td>\n",
       "      <td>1,326,374</td>\n",
       "      <td>252,368</td>\n",
       "      <td>7,052</td>\n",
       "    </tr>\n",
       "  </tbody>\n",
       "</table>\n",
       "</div>"
      ],
      "text/plain": [
       "         0~9세.2   10~19세.2   20~29세.2   30~39세.2   40~49세.2   50~59세.2  \\\n",
       "행정기관                                                                     \n",
       "전국    1,531,058  2,245,507  2,855,132  3,166,585  3,796,703  4,315,099   \n",
       "\n",
       "       60~69세.2   70~79세.2   80~89세.2 90~99세.2 100세 이상.2  \n",
       "행정기관                                                      \n",
       "전국    3,968,224  2,254,795  1,326,374  252,368     7,052  "
      ]
     },
     "execution_count": 7,
     "metadata": {},
     "output_type": "execute_result"
    }
   ],
   "source": [
    "##파일 불러오기 \n",
    "import pandas as pd\n",
    "###계 \n",
    "df = pd.read_excel('data/202412_202412_연령별인구현황_연간.xlsx',skiprows=3,\n",
    "                   usecols='B,E:O',index_col='행정기관',nrows=1)\n",
    "df\n",
    "##남자 \n",
    "m_df = pd.read_excel('data/202412_202412_연령별인구현황_연간.xlsx',skiprows=3,\n",
    "                   usecols='B,R:AB',index_col='행정기관',nrows=1)\n",
    "m_df \n",
    "##여자\n",
    "w_df = pd.read_excel('data/202412_202412_연령별인구현황_연간.xlsx',skiprows=3,\n",
    "                   usecols='B,AE:AO',index_col='행정기관',nrows=1)\n",
    "w_df "
   ]
  },
  {
   "cell_type": "code",
   "execution_count": null,
   "id": "76e31de7",
   "metadata": {},
   "outputs": [
    {
     "data": {
      "text/plain": [
       "Index(['0~9세', '10~19세', '20~29세', '30~39세', '40~49세', '50~59세', '60~69세',\n",
       "       '70~79세', '80~89세', '90~99세', '100세 이상'],\n",
       "      dtype='object')"
      ]
     },
     "execution_count": 15,
     "metadata": {},
     "output_type": "execute_result"
    }
   ],
   "source": [
    "#컬럼명 비교   컬럼명 \n",
    "df.columns  #'0~9세'  \n",
    "m_df.columns#'0~9세.1'\n",
    "w_df.columns#'0~9세.2'\n",
    "\n",
    "#컬럼명으로 컬럼 출력 \n",
    "# df['0~9세']\n",
    "#m_df['0~9세.1']\n",
    "#w_df['0~9세.2']\n",
    "\n",
    "\n",
    "#컬럼명 변경 \n",
    "df.columns\n",
    "m_df.columns = df.columns  # 컬럼명 변경 \n",
    "w_df.columns = df.columns  #컬럼명 변경\n",
    "\n",
    "\n"
   ]
  },
  {
   "cell_type": "code",
   "execution_count": 16,
   "id": "a7b21679",
   "metadata": {},
   "outputs": [
    {
     "data": {
      "text/plain": [
       "행정기관\n",
       "전국      1,531,058\n",
       "Name: 0~9세, dtype: object"
      ]
     },
     "execution_count": 16,
     "metadata": {},
     "output_type": "execute_result"
    }
   ],
   "source": [
    "df['0~9세']\n",
    "m_df['0~9세']\n",
    "w_df['0~9세']\n"
   ]
  },
  {
   "cell_type": "markdown",
   "id": "da419749",
   "metadata": {},
   "source": [
    "replace ,를 삭제 (천단위 삭제 ),타입변경 : astype(int), astype(float)  "
   ]
  },
  {
   "cell_type": "code",
   "execution_count": null,
   "id": "4f0363c5",
   "metadata": {},
   "outputs": [
    {
     "name": "stdout",
     "output_type": "stream",
     "text": [
      "<class 'pandas.core.frame.DataFrame'>\n",
      "Index: 1 entries, 전국   to 전국  \n",
      "Data columns (total 11 columns):\n",
      " #   Column   Non-Null Count  Dtype \n",
      "---  ------   --------------  ----- \n",
      " 0   0~9세     1 non-null      int64 \n",
      " 1   10~19세   1 non-null      object\n",
      " 2   20~29세   1 non-null      object\n",
      " 3   30~39세   1 non-null      object\n",
      " 4   40~49세   1 non-null      object\n",
      " 5   50~59세   1 non-null      object\n",
      " 6   60~69세   1 non-null      object\n",
      " 7   70~79세   1 non-null      object\n",
      " 8   80~89세   1 non-null      object\n",
      " 9   90~99세   1 non-null      object\n",
      " 10  100세 이상  1 non-null      object\n",
      "dtypes: int64(1), object(10)\n",
      "memory usage: 204.0+ bytes\n"
     ]
    }
   ],
   "source": [
    "# df.describe()\n",
    "# df.info()\n",
    "# df['0~9세'] = df['0~9세'].str.replace(\",\",\"\") # 천단위삭제\n",
    "# df['0~9세'] = df['0~9세'].astype(int) # 타입변경 \n",
    "df['0~9세'] = df['0~9세'].str.replace(\",\",\"\").astype(int) #천단위 삭제 ,타입변경 \n",
    "df.info() "
   ]
  },
  {
   "cell_type": "code",
   "execution_count": null,
   "id": "64c5ca3b",
   "metadata": {},
   "outputs": [
    {
     "ename": "AttributeError",
     "evalue": "Can only use .str accessor with string values!",
     "output_type": "error",
     "traceback": [
      "\u001b[31m---------------------------------------------------------------------------\u001b[39m",
      "\u001b[31mAttributeError\u001b[39m                            Traceback (most recent call last)",
      "\u001b[36mCell\u001b[39m\u001b[36m \u001b[39m\u001b[32mIn[35]\u001b[39m\u001b[32m, line 1\u001b[39m\n\u001b[32m----> \u001b[39m\u001b[32m1\u001b[39m df[\u001b[33m'\u001b[39m\u001b[33m10~19세\u001b[39m\u001b[33m'\u001b[39m] = \u001b[43mdf\u001b[49m\u001b[43m[\u001b[49m\u001b[33;43m'\u001b[39;49m\u001b[33;43m10~19세\u001b[39;49m\u001b[33;43m'\u001b[39;49m\u001b[43m]\u001b[49m\u001b[43m.\u001b[49m\u001b[43mstr\u001b[49m.replace(\u001b[33m\"\u001b[39m\u001b[33m,\u001b[39m\u001b[33m\"\u001b[39m,\u001b[33m\"\u001b[39m\u001b[33m\"\u001b[39m).astype(\u001b[38;5;28mint\u001b[39m)\n\u001b[32m      2\u001b[39m df.info()\n",
      "\u001b[36mFile \u001b[39m\u001b[32mc:\\python3\\Lib\\site-packages\\pandas\\core\\generic.py:6299\u001b[39m, in \u001b[36mNDFrame.__getattr__\u001b[39m\u001b[34m(self, name)\u001b[39m\n\u001b[32m   6292\u001b[39m \u001b[38;5;28;01mif\u001b[39;00m (\n\u001b[32m   6293\u001b[39m     name \u001b[38;5;129;01mnot\u001b[39;00m \u001b[38;5;129;01min\u001b[39;00m \u001b[38;5;28mself\u001b[39m._internal_names_set\n\u001b[32m   6294\u001b[39m     \u001b[38;5;129;01mand\u001b[39;00m name \u001b[38;5;129;01mnot\u001b[39;00m \u001b[38;5;129;01min\u001b[39;00m \u001b[38;5;28mself\u001b[39m._metadata\n\u001b[32m   6295\u001b[39m     \u001b[38;5;129;01mand\u001b[39;00m name \u001b[38;5;129;01mnot\u001b[39;00m \u001b[38;5;129;01min\u001b[39;00m \u001b[38;5;28mself\u001b[39m._accessors\n\u001b[32m   6296\u001b[39m     \u001b[38;5;129;01mand\u001b[39;00m \u001b[38;5;28mself\u001b[39m._info_axis._can_hold_identifiers_and_holds_name(name)\n\u001b[32m   6297\u001b[39m ):\n\u001b[32m   6298\u001b[39m     \u001b[38;5;28;01mreturn\u001b[39;00m \u001b[38;5;28mself\u001b[39m[name]\n\u001b[32m-> \u001b[39m\u001b[32m6299\u001b[39m \u001b[38;5;28;01mreturn\u001b[39;00m \u001b[38;5;28;43mobject\u001b[39;49m\u001b[43m.\u001b[49m\u001b[34;43m__getattribute__\u001b[39;49m\u001b[43m(\u001b[49m\u001b[38;5;28;43mself\u001b[39;49m\u001b[43m,\u001b[49m\u001b[43m \u001b[49m\u001b[43mname\u001b[49m\u001b[43m)\u001b[49m\n",
      "\u001b[36mFile \u001b[39m\u001b[32mc:\\python3\\Lib\\site-packages\\pandas\\core\\accessor.py:224\u001b[39m, in \u001b[36mCachedAccessor.__get__\u001b[39m\u001b[34m(self, obj, cls)\u001b[39m\n\u001b[32m    221\u001b[39m \u001b[38;5;28;01mif\u001b[39;00m obj \u001b[38;5;129;01mis\u001b[39;00m \u001b[38;5;28;01mNone\u001b[39;00m:\n\u001b[32m    222\u001b[39m     \u001b[38;5;66;03m# we're accessing the attribute of the class, i.e., Dataset.geo\u001b[39;00m\n\u001b[32m    223\u001b[39m     \u001b[38;5;28;01mreturn\u001b[39;00m \u001b[38;5;28mself\u001b[39m._accessor\n\u001b[32m--> \u001b[39m\u001b[32m224\u001b[39m accessor_obj = \u001b[38;5;28;43mself\u001b[39;49m\u001b[43m.\u001b[49m\u001b[43m_accessor\u001b[49m\u001b[43m(\u001b[49m\u001b[43mobj\u001b[49m\u001b[43m)\u001b[49m\n\u001b[32m    225\u001b[39m \u001b[38;5;66;03m# Replace the property with the accessor object. Inspired by:\u001b[39;00m\n\u001b[32m    226\u001b[39m \u001b[38;5;66;03m# https://www.pydanny.com/cached-property.html\u001b[39;00m\n\u001b[32m    227\u001b[39m \u001b[38;5;66;03m# We need to use object.__setattr__ because we overwrite __setattr__ on\u001b[39;00m\n\u001b[32m    228\u001b[39m \u001b[38;5;66;03m# NDFrame\u001b[39;00m\n\u001b[32m    229\u001b[39m \u001b[38;5;28mobject\u001b[39m.\u001b[34m__setattr__\u001b[39m(obj, \u001b[38;5;28mself\u001b[39m._name, accessor_obj)\n",
      "\u001b[36mFile \u001b[39m\u001b[32mc:\\python3\\Lib\\site-packages\\pandas\\core\\strings\\accessor.py:191\u001b[39m, in \u001b[36mStringMethods.__init__\u001b[39m\u001b[34m(self, data)\u001b[39m\n\u001b[32m    188\u001b[39m \u001b[38;5;28;01mdef\u001b[39;00m\u001b[38;5;250m \u001b[39m\u001b[34m__init__\u001b[39m(\u001b[38;5;28mself\u001b[39m, data) -> \u001b[38;5;28;01mNone\u001b[39;00m:\n\u001b[32m    189\u001b[39m     \u001b[38;5;28;01mfrom\u001b[39;00m\u001b[38;5;250m \u001b[39m\u001b[34;01mpandas\u001b[39;00m\u001b[34;01m.\u001b[39;00m\u001b[34;01mcore\u001b[39;00m\u001b[34;01m.\u001b[39;00m\u001b[34;01marrays\u001b[39;00m\u001b[34;01m.\u001b[39;00m\u001b[34;01mstring_\u001b[39;00m\u001b[38;5;250m \u001b[39m\u001b[38;5;28;01mimport\u001b[39;00m StringDtype\n\u001b[32m--> \u001b[39m\u001b[32m191\u001b[39m     \u001b[38;5;28mself\u001b[39m._inferred_dtype = \u001b[38;5;28;43mself\u001b[39;49m\u001b[43m.\u001b[49m\u001b[43m_validate\u001b[49m\u001b[43m(\u001b[49m\u001b[43mdata\u001b[49m\u001b[43m)\u001b[49m\n\u001b[32m    192\u001b[39m     \u001b[38;5;28mself\u001b[39m._is_categorical = \u001b[38;5;28misinstance\u001b[39m(data.dtype, CategoricalDtype)\n\u001b[32m    193\u001b[39m     \u001b[38;5;28mself\u001b[39m._is_string = \u001b[38;5;28misinstance\u001b[39m(data.dtype, StringDtype)\n",
      "\u001b[36mFile \u001b[39m\u001b[32mc:\\python3\\Lib\\site-packages\\pandas\\core\\strings\\accessor.py:245\u001b[39m, in \u001b[36mStringMethods._validate\u001b[39m\u001b[34m(data)\u001b[39m\n\u001b[32m    242\u001b[39m inferred_dtype = lib.infer_dtype(values, skipna=\u001b[38;5;28;01mTrue\u001b[39;00m)\n\u001b[32m    244\u001b[39m \u001b[38;5;28;01mif\u001b[39;00m inferred_dtype \u001b[38;5;129;01mnot\u001b[39;00m \u001b[38;5;129;01min\u001b[39;00m allowed_types:\n\u001b[32m--> \u001b[39m\u001b[32m245\u001b[39m     \u001b[38;5;28;01mraise\u001b[39;00m \u001b[38;5;167;01mAttributeError\u001b[39;00m(\u001b[33m\"\u001b[39m\u001b[33mCan only use .str accessor with string values!\u001b[39m\u001b[33m\"\u001b[39m)\n\u001b[32m    246\u001b[39m \u001b[38;5;28;01mreturn\u001b[39;00m inferred_dtype\n",
      "\u001b[31mAttributeError\u001b[39m: Can only use .str accessor with string values!"
     ]
    }
   ],
   "source": [
    "#10~19세  천단위 삭제 int변경 \n",
    "df['10~19세'] = df['10~19세'].str.replace(\",\",\"\").astype(int)\n"
   ]
  },
  {
   "cell_type": "code",
   "execution_count": null,
   "id": "59418dac",
   "metadata": {},
   "outputs": [
    {
     "name": "stdout",
     "output_type": "stream",
     "text": [
      "<class 'pandas.core.frame.DataFrame'>\n",
      "Index: 1 entries, 전국   to 전국  \n",
      "Data columns (total 11 columns):\n",
      " #   Column   Non-Null Count  Dtype \n",
      "---  ------   --------------  ----- \n",
      " 0   0~9세     1 non-null      int64 \n",
      " 1   10~19세   1 non-null      int64 \n",
      " 2   20~29세   1 non-null      object\n",
      " 3   30~39세   1 non-null      object\n",
      " 4   40~49세   1 non-null      object\n",
      " 5   50~59세   1 non-null      object\n",
      " 6   60~69세   1 non-null      object\n",
      " 7   70~79세   1 non-null      object\n",
      " 8   80~89세   1 non-null      object\n",
      " 9   90~99세   1 non-null      object\n",
      " 10  100세 이상  1 non-null      object\n",
      "dtypes: int64(2), object(9)\n",
      "memory usage: 204.0+ bytes\n"
     ]
    }
   ],
   "source": [
    "df.info()"
   ]
  },
  {
   "cell_type": "code",
   "execution_count": 55,
   "id": "3b480ba4",
   "metadata": {},
   "outputs": [],
   "source": [
    "## m_df 천단위 삭제 , int 타입변경 \n",
    "# m_df.info() \n",
    "m_df = m_df.T # 축변경  \n"
   ]
  },
  {
   "cell_type": "code",
   "execution_count": 49,
   "id": "ee79ad82",
   "metadata": {},
   "outputs": [
    {
     "data": {
      "text/html": [
       "<div>\n",
       "<style scoped>\n",
       "    .dataframe tbody tr th:only-of-type {\n",
       "        vertical-align: middle;\n",
       "    }\n",
       "\n",
       "    .dataframe tbody tr th {\n",
       "        vertical-align: top;\n",
       "    }\n",
       "\n",
       "    .dataframe thead th {\n",
       "        text-align: right;\n",
       "    }\n",
       "</style>\n",
       "<table border=\"1\" class=\"dataframe\">\n",
       "  <thead>\n",
       "    <tr style=\"text-align: right;\">\n",
       "      <th></th>\n",
       "      <th>0~9세</th>\n",
       "      <th>10~19세</th>\n",
       "      <th>20~29세</th>\n",
       "      <th>30~39세</th>\n",
       "      <th>40~49세</th>\n",
       "      <th>50~59세</th>\n",
       "      <th>60~69세</th>\n",
       "      <th>70~79세</th>\n",
       "      <th>80~89세</th>\n",
       "      <th>90~99세</th>\n",
       "      <th>100세 이상</th>\n",
       "    </tr>\n",
       "    <tr>\n",
       "      <th>행정기관</th>\n",
       "      <th></th>\n",
       "      <th></th>\n",
       "      <th></th>\n",
       "      <th></th>\n",
       "      <th></th>\n",
       "      <th></th>\n",
       "      <th></th>\n",
       "      <th></th>\n",
       "      <th></th>\n",
       "      <th></th>\n",
       "      <th></th>\n",
       "    </tr>\n",
       "  </thead>\n",
       "  <tbody>\n",
       "    <tr>\n",
       "      <th>전국</th>\n",
       "      <td>1,609,060</td>\n",
       "      <td>2,373,758</td>\n",
       "      <td>3,100,524</td>\n",
       "      <td>3,457,978</td>\n",
       "      <td>3,926,120</td>\n",
       "      <td>4,391,271</td>\n",
       "      <td>3,850,559</td>\n",
       "      <td>1,931,802</td>\n",
       "      <td>778,170</td>\n",
       "      <td>77,557</td>\n",
       "      <td>1,525</td>\n",
       "    </tr>\n",
       "  </tbody>\n",
       "</table>\n",
       "</div>"
      ],
      "text/plain": [
       "           0~9세     10~19세     20~29세     30~39세     40~49세     50~59세  \\\n",
       "행정기관                                                                     \n",
       "전국    1,609,060  2,373,758  3,100,524  3,457,978  3,926,120  4,391,271   \n",
       "\n",
       "         60~69세     70~79세   80~89세  90~99세 100세 이상  \n",
       "행정기관                                                 \n",
       "전국    3,850,559  1,931,802  778,170  77,557   1,525  "
      ]
     },
     "execution_count": 49,
     "metadata": {},
     "output_type": "execute_result"
    }
   ],
   "source": [
    "m_df.head(2)"
   ]
  },
  {
   "cell_type": "code",
   "execution_count": null,
   "id": "63ca4df6",
   "metadata": {},
   "outputs": [
    {
     "name": "stdout",
     "output_type": "stream",
     "text": [
      "<class 'pandas.core.frame.DataFrame'>\n",
      "Index: 1 entries, 전국   to 전국  \n",
      "Data columns (total 11 columns):\n",
      " #   Column   Non-Null Count  Dtype \n",
      "---  ------   --------------  ----- \n",
      " 0   0~9세     1 non-null      object\n",
      " 1   10~19세   1 non-null      object\n",
      " 2   20~29세   1 non-null      object\n",
      " 3   30~39세   1 non-null      object\n",
      " 4   40~49세   1 non-null      object\n",
      " 5   50~59세   1 non-null      object\n",
      " 6   60~69세   1 non-null      object\n",
      " 7   70~79세   1 non-null      object\n",
      " 8   80~89세   1 non-null      object\n",
      " 9   90~99세   1 non-null      object\n",
      " 10  100세 이상  1 non-null      object\n",
      "dtypes: object(11)\n",
      "memory usage: 204.0+ bytes\n"
     ]
    }
   ],
   "source": [
    "#함수를 사용해서 전체 천단위 삭제가능 \n",
    "#m_df.iloc[0].str.replace(\",\",\"\").astype(int)\n"
   ]
  },
  {
   "cell_type": "code",
   "execution_count": null,
   "id": "f065d977",
   "metadata": {},
   "outputs": [
    {
     "data": {
      "text/plain": [
       "Index(['전국'], dtype='object', name='행정기관')"
      ]
     },
     "execution_count": 60,
     "metadata": {},
     "output_type": "execute_result"
    }
   ],
   "source": [
    "# 축이변경됨 \n",
    "##컬럼별로 한번에 변경가능 - replace astype 컬럼 전체 적용시킴 \n",
    "# m_df['전국 ']\n",
    "# m_df.columns\n",
    "# m_df['전국  '] = m_df['전국  '].str.replace(\",\",\"\").astype(int)\n",
    "# m_df\n",
    "\n",
    "###컬럼명 1개 변경 \n",
    "m_df.rename(columns={\"전국  \":\"전국\"},inplace=True)\n",
    "m_df.columns"
   ]
  },
  {
   "cell_type": "code",
   "execution_count": null,
   "id": "b8228c2e",
   "metadata": {},
   "outputs": [],
   "source": []
  }
 ],
 "metadata": {
  "kernelspec": {
   "display_name": "Python 3",
   "language": "python",
   "name": "python3"
  },
  "language_info": {
   "codemirror_mode": {
    "name": "ipython",
    "version": 3
   },
   "file_extension": ".py",
   "mimetype": "text/x-python",
   "name": "python",
   "nbconvert_exporter": "python",
   "pygments_lexer": "ipython3",
   "version": "3.13.2"
  }
 },
 "nbformat": 4,
 "nbformat_minor": 5
}
