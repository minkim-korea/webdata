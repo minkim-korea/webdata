{
 "cells": [
  {
   "cell_type": "code",
   "execution_count": null,
   "id": "c1f4b023",
   "metadata": {},
   "outputs": [],
   "source": [
    "#import pandas as pd \n",
    "\n",
    "# data = {\n",
    "#     '이름':['홍길동','유관순','이순신','강감찬','김구','김유신','홍길자','홍길순'],\n",
    "#     '학교':['가산고','가산고','가산고','가산고','가산고','디지털고','디지털고','디지털고'],\n",
    "#     '키':[197,184,168,187,188,202,188,190],\n",
    "#     '국어':[90,40,80,40,15,80,55,100],\n",
    "#     '영어':[85,35,75,60,20,100,65,85],\n",
    "#     '수학':[100,50,70,70,10,95,45,90],\n",
    "#     '과학':[95,55,80,75,35,85,40,95],\n",
    "#     '사회':[85,25,75,80,10,80,35,95],\n",
    "#     'SW특기':['Python','Java','Javascript','','','C','PYTHON','C#']\n",
    "# }\n",
    "# ## index 추가해서 DataFrame 구성 \n",
    "# df = pd.DataFrame(data,index=['1번','2번','3번','4번','5번','6번','7번','8번'])\n",
    "# df.index.name = '지원번호'"
   ]
  },
  {
   "cell_type": "code",
   "execution_count": null,
   "id": "d488e52d",
   "metadata": {},
   "outputs": [],
   "source": [
    "# 데이터 불러오기 \n",
    "import pandas as pd \n",
    "df =pd.read_excel('data/score.xlsx',index_col='지원번호')\n"
   ]
  },
  {
   "cell_type": "markdown",
   "id": "3077abcd",
   "metadata": {},
   "source": [
    "DataFrame 기본명령어 "
   ]
  },
  {
   "cell_type": "code",
   "execution_count": null,
   "id": "82b12175",
   "metadata": {},
   "outputs": [
    {
     "name": "stdout",
     "output_type": "stream",
     "text": [
      "<class 'pandas.core.frame.DataFrame'>\n",
      "Index: 8 entries, 1번 to 8번\n",
      "Data columns (total 9 columns):\n",
      " #   Column  Non-Null Count  Dtype \n",
      "---  ------  --------------  ----- \n",
      " 0   이름      8 non-null      object\n",
      " 1   학교      8 non-null      object\n",
      " 2   키       8 non-null      int64 \n",
      " 3   국어      8 non-null      int64 \n",
      " 4   영어      8 non-null      int64 \n",
      " 5   수학      8 non-null      int64 \n",
      " 6   과학      8 non-null      int64 \n",
      " 7   사회      8 non-null      int64 \n",
      " 8   SW특기    6 non-null      object\n",
      "dtypes: int64(6), object(3)\n",
      "memory usage: 940.0+ bytes\n"
     ]
    }
   ],
   "source": [
    "# 데이터 타입이 숫자인 경우만 기본적 통계를 보여줌. \n",
    "# str 타입 컬럼은 출력되지않음. \n",
    "#df.describe()\n",
    "\n",
    "#데이터크기 ,데이터유형, Nan데이터 유무 ,.개수 \n",
    "# df.info()"
   ]
  },
  {
   "cell_type": "code",
   "execution_count": null,
   "id": "47710189",
   "metadata": {},
   "outputs": [
    {
     "data": {
      "text/html": [
       "<div>\n",
       "<style scoped>\n",
       "    .dataframe tbody tr th:only-of-type {\n",
       "        vertical-align: middle;\n",
       "    }\n",
       "\n",
       "    .dataframe tbody tr th {\n",
       "        vertical-align: top;\n",
       "    }\n",
       "\n",
       "    .dataframe thead th {\n",
       "        text-align: right;\n",
       "    }\n",
       "</style>\n",
       "<table border=\"1\" class=\"dataframe\">\n",
       "  <thead>\n",
       "    <tr style=\"text-align: right;\">\n",
       "      <th></th>\n",
       "      <th>이름</th>\n",
       "      <th>학교</th>\n",
       "      <th>키</th>\n",
       "      <th>국어</th>\n",
       "      <th>영어</th>\n",
       "      <th>수학</th>\n",
       "      <th>과학</th>\n",
       "      <th>사회</th>\n",
       "      <th>SW특기</th>\n",
       "    </tr>\n",
       "    <tr>\n",
       "      <th>지원번호</th>\n",
       "      <th></th>\n",
       "      <th></th>\n",
       "      <th></th>\n",
       "      <th></th>\n",
       "      <th></th>\n",
       "      <th></th>\n",
       "      <th></th>\n",
       "      <th></th>\n",
       "      <th></th>\n",
       "    </tr>\n",
       "  </thead>\n",
       "  <tbody>\n",
       "    <tr>\n",
       "      <th>1번</th>\n",
       "      <td>홍길동</td>\n",
       "      <td>가산고</td>\n",
       "      <td>197</td>\n",
       "      <td>90</td>\n",
       "      <td>85</td>\n",
       "      <td>100</td>\n",
       "      <td>95</td>\n",
       "      <td>85</td>\n",
       "      <td>Python</td>\n",
       "    </tr>\n",
       "    <tr>\n",
       "      <th>2번</th>\n",
       "      <td>유관순</td>\n",
       "      <td>가산고</td>\n",
       "      <td>184</td>\n",
       "      <td>40</td>\n",
       "      <td>35</td>\n",
       "      <td>50</td>\n",
       "      <td>55</td>\n",
       "      <td>25</td>\n",
       "      <td>Java</td>\n",
       "    </tr>\n",
       "  </tbody>\n",
       "</table>\n",
       "</div>"
      ],
      "text/plain": [
       "       이름   학교    키  국어  영어   수학  과학  사회    SW특기\n",
       "지원번호                                            \n",
       "1번    홍길동  가산고  197  90  85  100  95  85  Python\n",
       "2번    유관순  가산고  184  40  35   50  55  25    Java"
      ]
     },
     "execution_count": 6,
     "metadata": {},
     "output_type": "execute_result"
    }
   ],
   "source": [
    "#앞부분 n개출력됨 처음 기본형태로 숫자만큼 출력됨 . \n",
    "# df.head(2)\n",
    "# 뒤 부분 n개만 출력됨. \n",
    "# df.tail(3)"
   ]
  },
  {
   "cell_type": "code",
   "execution_count": null,
   "id": "53c9a169",
   "metadata": {},
   "outputs": [
    {
     "data": {
      "text/plain": [
       "Index(['이름', '학교', '키', '국어', '영어', '수학', '과학', '사회', 'SW특기'], dtype='object')"
      ]
     },
     "execution_count": 11,
     "metadata": {},
     "output_type": "execute_result"
    }
   ],
   "source": [
    "# index 읽어오기 \n",
    "#df.index\n",
    "\n",
    "#column 리스트 출력 \n",
    "# df.columns"
   ]
  },
  {
   "cell_type": "code",
   "execution_count": null,
   "id": "63831131",
   "metadata": {},
   "outputs": [
    {
     "data": {
      "text/plain": [
       "(8, 9)"
      ]
     },
     "execution_count": 12,
     "metadata": {},
     "output_type": "execute_result"
    }
   ],
   "source": [
    "# 데이터 크기 \n",
    "df.shape\n",
    "\n",
    "# 배열구조 출력 \n",
    "df.values"
   ]
  },
  {
   "cell_type": "code",
   "execution_count": null,
   "id": "36ffda6e",
   "metadata": {},
   "outputs": [
    {
     "data": {
      "text/plain": [
       "지원번호\n",
       "3번    168\n",
       "2번    184\n",
       "4번    187\n",
       "Name: 키, dtype: int64"
      ]
     },
     "execution_count": 20,
     "metadata": {},
     "output_type": "execute_result"
    }
   ],
   "source": [
    "#컬럼 출력 \n",
    "#df['키']\n",
    "\n",
    "# 키 컬럼에서 큰순서 출력 개수입력시 개수만큼 출력 \n",
    "#df['키'].nlargest(3)\n",
    "\n",
    "#작은순서로 출력  \n",
    "# df['키'].nsmallest()# 기본은 5개출력함\n",
    "# df['키'].nsmallest(3)"
   ]
  },
  {
   "cell_type": "code",
   "execution_count": 24,
   "id": "dfe8ddd4",
   "metadata": {},
   "outputs": [
    {
     "data": {
      "text/plain": [
       "지원번호\n",
       "1번     가산고\n",
       "2번     가산고\n",
       "3번     가산고\n",
       "4번     가산고\n",
       "5번     가산고\n",
       "6번    디지털고\n",
       "7번    디지털고\n",
       "8번    디지털고\n",
       "Name: 학교, dtype: object"
      ]
     },
     "execution_count": 24,
     "metadata": {},
     "output_type": "execute_result"
    }
   ],
   "source": [
    "df['학교']"
   ]
  },
  {
   "cell_type": "code",
   "execution_count": null,
   "id": "627073ff",
   "metadata": {},
   "outputs": [
    {
     "data": {
      "text/plain": [
       "np.int64(8)"
      ]
     },
     "execution_count": 29,
     "metadata": {},
     "output_type": "execute_result"
    }
   ],
   "source": [
    "#중복제거후 학교이름 출력 \n",
    "df['학교'].unique()  # 이름을 출력 \n",
    "df['학교'].nunique() # 개수를 출력 \n",
    "\n",
    "# 개수 출력 = Nan데이터 제외후 출력 \n",
    "df['SW특기'].count() # 6개 :Nan데이터 2개 \n",
    "df['키'].count()    # 8개 \n"
   ]
  }
 ],
 "metadata": {
  "kernelspec": {
   "display_name": "Python 3",
   "language": "python",
   "name": "python3"
  },
  "language_info": {
   "codemirror_mode": {
    "name": "ipython",
    "version": 3
   },
   "file_extension": ".py",
   "mimetype": "text/x-python",
   "name": "python",
   "nbconvert_exporter": "python",
   "pygments_lexer": "ipython3",
   "version": "3.13.2"
  }
 },
 "nbformat": 4,
 "nbformat_minor": 5
}
